{
 "cells": [
  {
   "cell_type": "markdown",
   "metadata": {},
   "source": [
    "### Computing for Mathematics - 2022/2023 individual coursework\n",
    "\n",
    "**Important** Do not delete the cells containing: \n",
    "\n",
    "```\n",
    "### BEGIN SOLUTION\n",
    "\n",
    "\n",
    "### END SOLUTION\n",
    "```\n",
    "\n",
    "write your solution attempts in those cells.\n",
    "\n",
    "To submit this notebook:\n",
    "\n",
    "- Change the name of the notebook from `main` to: `<student_number>`. For example, if your student number is `c1234567` then change the name of the notebook to `c1234567`.\n",
    "- **Write all your solution attempts in the correct locations**;\n",
    "- **Do not delete** any code that is already in the cells;\n",
    "- Save the notebook (`File>Save As`);\n",
    "- Follow the instructions given to submit."
   ]
  },
  {
   "cell_type": "markdown",
   "metadata": {},
   "source": [
    "#### Question 1\n",
    "\n",
    "(__Hint__: This question is similar to the [this section of the python for mathematics text](https://vknight.org/pfm/tools-for-mathematics/07-sequences/how/main.html#define-a-function-using-recursion).)\n",
    "\n",
    "For each of the following sequences, define a function `generate_sequence` that generates the exact value of the terms. Output the term for $n=5$.\n",
    "\n",
    "a. \\\\(a_n= \\begin{cases}5,\\text{ if }n=3\\\\\\frac{1}{a_{n - 1} + 1}, \\text{ if }n>3\\end{cases}\\\\)\n",
    "\n",
    "Available marks: 3"
   ]
  },
  {
   "cell_type": "code",
   "execution_count": 2,
   "metadata": {
    "tags": [
     "answer:q1-a"
    ]
   },
   "outputs": [
    {
     "data": {
      "text/plain": [
       "0.8571428571428571"
      ]
     },
     "execution_count": 2,
     "metadata": {},
     "output_type": "execute_result"
    }
   ],
   "source": [
    "import sympy as sym\n",
    "\n",
    "def generate_sequence(n):\n",
    "### BEGIN SOLUTION\n",
    "\n",
    "    \"\"\"\n",
    "    Return the sequence a.\n",
    "    \n",
    "    \"\"\"\n",
    "    if n == 3:\n",
    "        return 5\n",
    "    return 1 / (generate_sequence(n - 1) + 1)\n",
    "value_of_n_is_5 = generate_sequence(n = 5)\n",
    "value_of_n_is_5\n",
    "\n",
    "### END SOLUTION"
   ]
  },
  {
   "cell_type": "markdown",
   "metadata": {},
   "source": [
    "b. \\\\(a_n= \\begin{cases}\\pi,\\text{ if }n=1\\\\\\frac{1}{\\sqrt{a_{n - 1} + 1}}, \\text{ if }n>1\\end{cases}\\\\)\n",
    "\n",
    "_Available marks: 3_"
   ]
  },
  {
   "cell_type": "code",
   "execution_count": 3,
   "metadata": {
    "tags": [
     "answer:q1-b"
    ]
   },
   "outputs": [
    {
     "data": {
      "text/plain": [
       "0.757775193993887"
      ]
     },
     "execution_count": 3,
     "metadata": {},
     "output_type": "execute_result"
    }
   ],
   "source": [
    "def generate_sequence(n):\n",
    "### BEGIN SOLUTION\n",
    "    \"\"\"\n",
    "    Return the sequence a.\n",
    "    \n",
    "    \"\"\"\n",
    "    import math\n",
    "    if n == 1:\n",
    "        return sym.pi\n",
    "    return 1 / math.sqrt(generate_sequence(n - 1) + 1)\n",
    "value_of_n_is_5 = generate_sequence(n = 5)\n",
    "value_of_n_is_5\n",
    "\n",
    "### END SOLUTION"
   ]
  },
  {
   "cell_type": "markdown",
   "metadata": {},
   "source": [
    "c. \\\\(a_n= \n",
    "\\begin{cases}1,\\text{ if }n\\in\\{1,2,3\\}\\\\a_{n - 1} - a_{n - 2} + a_{n = 3}, \\text{ if }n>3\\end{cases}\\\\)\n",
    "\n",
    "_Available marks: 2_"
   ]
  },
  {
   "cell_type": "code",
   "execution_count": 4,
   "metadata": {
    "tags": [
     "answer:q1-c"
    ]
   },
   "outputs": [
    {
     "data": {
      "text/plain": [
       "1"
      ]
     },
     "execution_count": 4,
     "metadata": {},
     "output_type": "execute_result"
    }
   ],
   "source": [
    "def generate_sequence(n):\n",
    "### BEGIN SOLUTION\n",
    "    import math\n",
    "    \"\"\"\n",
    "    Return the sequence a.\n",
    "    \n",
    "    \"\"\"\n",
    "    if n in (1,2,3):\n",
    "        return 1\n",
    "    return generate_sequence(n - 1) - generate_sequence(n - 2) + generate_sequence(n - 3)\n",
    "value_of_n_is_5 = generate_sequence(n = 5)\n",
    "value_of_n_is_5\n",
    "\n",
    "### END SOLUTION"
   ]
  },
  {
   "cell_type": "markdown",
   "metadata": {},
   "source": [
    "### Question 2\n",
    "\n",
    "\n",
    "(__Hint__: This question is similar to the [second exercise of the Probability chapter of Python for mathematics](https://vknight.org/pfm/tools-for-mathematics/06-probability/solutions/main.html#question-2))\n",
    "\n",
    "Write a function `sample_experiment` that can simulate selecting a token from a bag given a particular number of:\n",
    "\n",
    "- Red tokens;\n",
    "- Blue tokens;\n",
    "- Yellow tokens;\n",
    "- Green tokens.\n",
    "\n",
    "The function should return one of the following strings: `\"Red\"`, `\"Blue\"`, `\"Yellow\"`, or `\"Green\"`.\n",
    "\n",
    "_available marks: 4_"
   ]
  },
  {
   "cell_type": "code",
   "execution_count": 5,
   "metadata": {
    "tags": [
     "answer:q2-b"
    ]
   },
   "outputs": [],
   "source": [
    "import random\n",
    "\n",
    "def sample_experiment(number_of_red, number_of_blue, number_of_yellow, number_of_green):\n",
    "### BEGIN SOLUTION\n",
    "    \"\"\"\n",
    "    This function simulates selecting a token from a bag with number_of_red red tokens,\n",
    "    number_of_blue blue tokens, number_of_yellow yellow tokens and number_of_green green tokens.\n",
    "    \n",
    "    \"\"\"\n",
    "\n",
    "    bag = (\n",
    "        [\"Red\"] * number_of_red\n",
    "        + [\"Blue\"] * number_of_blue\n",
    "        + [\"Yellow\"] * number_of_yellow\n",
    "        + [\"Green\"] * number_of_green\n",
    "    )\n",
    "\n",
    "    return random.choice(bag)\n",
    "### END SOLUTION"
   ]
  },
  {
   "cell_type": "markdown",
   "metadata": {},
   "source": [
    "### Question 3\n",
    "\n",
    "(__Hint__: This question is similar to the [third exercise of the Algebra chapter of Python for mathematics](https://vknight.org/pfm/tools-for-mathematics/02-algebra/solutions/main.html#question-3).)\n",
    "\n",
    "a. Create a variable `general_solution_for_given_y` which has value the set of solutions, in terms of $y$ to the following equation:\n",
    "\n",
    "\n",
    "$$\n",
    "x ^ 2  = \\sin(y) + x / \\pi\n",
    "$$\n",
    "\n",
    "_Available marks: 2_"
   ]
  },
  {
   "cell_type": "code",
   "execution_count": 6,
   "metadata": {
    "tags": [
     "answer:q3-a"
    ]
   },
   "outputs": [
    {
     "data": {
      "text/latex": [
       "$\\displaystyle \\left\\{y\\; \\middle|\\; y \\in \\mathbb{R} \\wedge x^{2} - \\frac{x}{\\pi} - \\sin{\\left(y \\right)} = 0 \\right\\}$"
      ],
      "text/plain": [
       "ConditionSet(y, Eq(x**2 - x/pi - sin(y), 0), Reals)"
      ]
     },
     "execution_count": 6,
     "metadata": {},
     "output_type": "execute_result"
    }
   ],
   "source": [
    "### BEGIN SOLUTION\n",
    "x = sym.Symbol(\"x\")\n",
    "y = sym.Symbol(\"y\")\n",
    "equation = sym.Eq(x ** 2, sym.sin(y) + (sym.S(x) / sym.pi))\n",
    "general_solution_for_given_y = sym.solveset(equation, y)\n",
    "general_solution_for_given_y\n",
    "### END SOLUTION"
   ]
  },
  {
   "cell_type": "markdown",
   "metadata": {},
   "source": [
    "b. Create a variable `particular_solution` which has value the set of solutions for $y=e ^ \\pi$.\n",
    "\n",
    "_Available marks: 2_"
   ]
  },
  {
   "cell_type": "code",
   "execution_count": 7,
   "metadata": {
    "tags": [
     "answer:q3-b"
    ]
   },
   "outputs": [
    {
     "data": {
      "text/latex": [
       "$\\displaystyle x^{2} = \\frac{x}{\\pi} + \\sin{\\left(e^{\\pi} \\right)}$"
      ],
      "text/plain": [
       "Eq(x**2, x/pi + sin(exp(pi)))"
      ]
     },
     "execution_count": 7,
     "metadata": {},
     "output_type": "execute_result"
    }
   ],
   "source": [
    "### BEGIN SOLUTION\n",
    "particular_solution = equation.subs({y: (sym.exp)(sym.pi)})\n",
    "particular_solution\n",
    "### END SOLUTION"
   ]
  },
  {
   "cell_type": "markdown",
   "metadata": {},
   "source": [
    "### Question 4\n",
    "\n",
    "(__Hint__: This question is similar to the [third exercise of the Matrices chapter of Python for mathematics](https://vknight.org/pfm/tools-for-mathematics/04-matrices/solutions/main.html#question-3))\n",
    "\n",
    "The matrix $A$ is given by $A=\\begin{pmatrix}a & 3 & 1\\\\ a & 2a & 3\\\\ -3 & 2 & 2 a\\end{pmatrix}$.\n",
    "\n",
    "a. Create a variable `determinant` which has value the determinant of $A$\n",
    "\n",
    "_Available marks: 2_"
   ]
  },
  {
   "cell_type": "code",
   "execution_count": 8,
   "metadata": {
    "tags": [
     "answer:q4-a"
    ]
   },
   "outputs": [],
   "source": [
    "a = sym.Symbol(\"a\")\n",
    "### BEGIN SOLUTION\n",
    "Matrix = sym.Matrix([\n",
    "    [a, 3, 1],\n",
    "    [a, 2 * a, 3],\n",
    "    [-3, 2, 2 * a]\n",
    "])\n",
    "determinant = Matrix.det()\n",
    "\n",
    "### END SOLUTION"
   ]
  },
  {
   "cell_type": "markdown",
   "metadata": {},
   "source": [
    "b. Create a variable `singular_values_of_a` which has value the set of values of $a$ for which $A$ is singular.\n",
    "\n",
    "\n",
    "_Available marks: 3_"
   ]
  },
  {
   "cell_type": "code",
   "execution_count": 26,
   "metadata": {
    "tags": [
     "answer:q4-b"
    ]
   },
   "outputs": [
    {
     "data": {
      "text/latex": [
       "$\\displaystyle \\left\\{\\frac{1}{12 \\sqrt[3]{\\frac{\\sqrt{59046}}{72} + \\frac{27}{8}}} + \\frac{1}{2} + \\sqrt[3]{\\frac{\\sqrt{59046}}{72} + \\frac{27}{8}}, - \\frac{\\sqrt[3]{\\frac{\\sqrt{59046}}{72} + \\frac{27}{8}}}{2} - \\frac{1}{24 \\sqrt[3]{\\frac{\\sqrt{59046}}{72} + \\frac{27}{8}}} + \\frac{1}{2} + i \\left(- \\frac{\\sqrt{3}}{24 \\sqrt[3]{\\frac{\\sqrt{59046}}{72} + \\frac{27}{8}}} + \\frac{\\sqrt{3} \\sqrt[3]{\\frac{\\sqrt{59046}}{72} + \\frac{27}{8}}}{2}\\right), - \\frac{\\sqrt[3]{\\frac{\\sqrt{59046}}{72} + \\frac{27}{8}}}{2} - \\frac{1}{24 \\sqrt[3]{\\frac{\\sqrt{59046}}{72} + \\frac{27}{8}}} + \\frac{1}{2} + i \\left(- \\frac{\\sqrt{3} \\sqrt[3]{\\frac{\\sqrt{59046}}{72} + \\frac{27}{8}}}{2} + \\frac{\\sqrt{3}}{24 \\sqrt[3]{\\frac{\\sqrt{59046}}{72} + \\frac{27}{8}}}\\right)\\right\\}$"
      ],
      "text/plain": [
       "{1/(12*(sqrt(59046)/72 + 27/8)**(1/3)) + 1/2 + (sqrt(59046)/72 + 27/8)**(1/3), -(sqrt(59046)/72 + 27/8)**(1/3)/2 - 1/(24*(sqrt(59046)/72 + 27/8)**(1/3)) + 1/2 + I*(-sqrt(3)/(24*(sqrt(59046)/72 + 27/8)**(1/3)) + sqrt(3)*(sqrt(59046)/72 + 27/8)**(1/3)/2), -(sqrt(59046)/72 + 27/8)**(1/3)/2 - 1/(24*(sqrt(59046)/72 + 27/8)**(1/3)) + 1/2 + I*(-sqrt(3)*(sqrt(59046)/72 + 27/8)**(1/3)/2 + sqrt(3)/(24*(sqrt(59046)/72 + 27/8)**(1/3)))}"
      ]
     },
     "execution_count": 26,
     "metadata": {},
     "output_type": "execute_result"
    }
   ],
   "source": [
    "### BEGIN SOLUTION\n",
    "singular_values_of_a = sym.solveset(determinant,a)\n",
    "singular_values_of_a\n",
    "### END SOLUTION"
   ]
  },
  {
   "cell_type": "markdown",
   "metadata": {},
   "source": [
    "c. Output a list which contains the singular values of $a$ which are pure real numbers.\n",
    "\n",
    "_Available marks: 2_"
   ]
  },
  {
   "cell_type": "code",
   "execution_count": 36,
   "metadata": {
    "tags": [
     "answer:q4-c"
    ]
   },
   "outputs": [
    {
     "data": {
      "text/plain": [
       "[1/(12*(sqrt(59046)/72 + 27/8)**(1/3)) + 1/2 + (sqrt(59046)/72 + 27/8)**(1/3)]"
      ]
     },
     "execution_count": 36,
     "metadata": {},
     "output_type": "execute_result"
    }
   ],
   "source": [
    "### BEGIN SOLUTION\n",
    "[real_singular_values_of_a for singular_values_of_a in singular_values_of_a if singular_values_of_a.is_real]\n",
    "### END SOLUTION"
   ]
  },
  {
   "cell_type": "code",
   "execution_count": null,
   "metadata": {},
   "outputs": [],
   "source": []
  }
 ],
 "metadata": {
  "celltoolbar": "Tags",
  "kernelspec": {
   "display_name": "Python 3 (ipykernel)",
   "language": "python",
   "name": "python3"
  },
  "language_info": {
   "codemirror_mode": {
    "name": "ipython",
    "version": 3
   },
   "file_extension": ".py",
   "mimetype": "text/x-python",
   "name": "python",
   "nbconvert_exporter": "python",
   "pygments_lexer": "ipython3",
   "version": "3.9.12"
  }
 },
 "nbformat": 4,
 "nbformat_minor": 4
}
